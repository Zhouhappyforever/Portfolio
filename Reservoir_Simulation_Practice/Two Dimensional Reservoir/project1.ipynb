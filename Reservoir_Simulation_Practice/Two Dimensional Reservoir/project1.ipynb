{
 "cells": [
  {
   "cell_type": "markdown",
   "metadata": {},
   "source": [
    "# My Professional Code for 2D Reservoir Simulation Project\n",
    "\n",
    "This is my implementation of a two-dimensional reservoir simulator for the Nechelik reservoir. It extends the base TwoDimReservoir class to handle heterogeneous data from files and includes plotting.\n",
    "\n",
    "The simulator uses finite differences to model pressure distribution with wells and boundary conditions. It handles inactive cells (porosity = 0) and uses sparse solvers for efficiency.\n",
    "\n",
    "This project showcases my expertise in numerical reservoir simulation with real data."
   ]
  },
  {
   "cell_type": "code",
   "execution_count": null,
   "metadata": {},
   "outputs": [],
   "source": [
    "import numpy as np\n",
    "import scipy.sparse\n",
    "import scipy.sparse.linalg\n",
    "import matplotlib.pyplot as plt\n",
    "import yaml\n",
    "from two_d_reservoir_simulator import TwoDimReservoir"
   ]
  },
  {
   "cell_type": "code",
   "execution_count": null,
   "metadata": {},
   "outputs": [],
   "source": [
    "class Project1(TwoDimReservoir):\n",
    "    \n",
    "    def __init__(self, inputs):\n",
    "        super().__init__(inputs)\n",
    "        # Handle inactive cells (phi == 0)\n",
    "        self.active = self.phi > 0\n",
    "        for i in np.where(~self.active)[0]:\n",
    "            self.k[i] = 0\n",
    "            self.B[i, i] = 1  # Arbitrary non-zero for solver stability\n",
    "            self.T[i, :] = 0\n",
    "            self.T[:, i] = 0\n",
    "            self.T[i, i] = 1\n",
    "            self.Q[i] = 0\n",
    "        \n",
    "    def solve_one_step(self):\n",
    "        solver_input = self.inputs['numerical']['solver']\n",
    "        dt = self.delta_t\n",
    "        p_old = self.p.copy()\n",
    "        \n",
    "        if isinstance(solver_input, str):\n",
    "            if solver_input == 'explicit':\n",
    "                theta = 1.0\n",
    "            elif solver_input == 'implicit':\n",
    "                theta = 0.0\n",
    "            else:\n",
    "                raise ValueError(f\"Unknown solver: {solver_input}\")\n",
    "        elif isinstance(solver_input, dict) and 'mixed method' in solver_input:\n",
    "            theta = solver_input['mixed method']['theta']\n",
    "        else:\n",
    "            raise ValueError(\"Invalid solver input\")\n",
    "        \n",
    "        lhs = self.B / dt + (1 - theta) * self.T\n",
    "        rhs = (self.B / dt) @ p_old + theta * self.T @ p_old + self.Q\n",
    "        \n",
    "        # Handle inactive cells\n",
    "        lhs = lhs.tolil()\n",
    "        for i in range(self.N):\n",
    "            if self.phi[i] == 0:\n",
    "                lhs[i, :] = 0\n",
    "                lhs[i, i] = 1\n",
    "                rhs[i] = p_old[i]\n",
    "        lhs = lhs.tocsr()\n",
    "        \n",
    "        self.p = scipy.sparse.linalg.spsolve(lhs, rhs)\n",
    "        \n",
    "        if 'plots' in self.inputs:\n",
    "            self.p_plot.append(self.p.copy())\n",
    "        \n",
    "        return\n",
    "    \n",
    "    def plot(self):\n",
    "        p_2d = self.p.reshape(self.Ny, self.Nx)\n",
    "        k_2d = self.k.reshape(self.Ny, self.Nx)\n",
    "        p_masked = np.ma.masked_where(k_2d == 0, p_2d)\n",
    "        \n",
    "        x_edges = np.cumsum(np.insert(self.delta_x, 0, 0))\n",
    "        y_edges = np.cumsum(np.insert(self.delta_y, 0, 0))\n",
    "        x_centers = (x_edges[:-1] + x_edges[1:]) / 2\n",
    "        y_centers = (y_edges[:-1] + y_edges[1:]) / 2\n",
    "        \n",
    "        X, Y = np.meshgrid(x_centers, y_centers)\n",
    "        \n",
    "        plt.figure(figsize=(8, 6))\n",
    "        cont = plt.contourf(X, Y, p_masked, cmap='viridis', levels=50)\n",
    "        plt.colorbar(cont)\n",
    "        plt.xlabel('x (ft)')\n",
    "        plt.ylabel('y (ft)')\n",
    "        plt.title('Pressure Contour in Reservoir')\n",
    "        plt.show()"
   ]
  }
 ],
 "metadata": {
  "kernelspec": {
   "display_name": "base",
   "language": "python",
   "name": "python3"
  },
  "language_info": {
   "codemirror_mode": {
    "name": "ipython",
    "version": 3
   },
   "file_extension": ".py",
   "mimetype": "text/x-python",
   "name": "python",
   "nbconvert_exporter": "python",
   "pygments_lexer": "ipython3",
   "version": "3.11.9"
  }
 },
 "nbformat": 4,
 "nbformat_minor": 4
}
