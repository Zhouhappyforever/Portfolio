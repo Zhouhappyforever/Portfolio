{
 "cells": [
  {
   "cell_type": "markdown",
   "metadata": {},
   "source": [
    "# Buckley-Leverett Solution Demonstration\n",
    "\n",
    "**Author: Andrew Z. Miller**\n",
    "\n",
    "This demonstration showcases the semi-analytical Buckley-Leverett solution, which serves as a validation tool for multiphase flow simulators. The solution models the displacement of oil by water in a one-dimensional reservoir, accounting for relative permeabilities using the Corey-Brooks model.\n",
    "\n",
    "The implemented class includes key functions such as `compute_saturation_profile()`, which calculates the full (inadmissible) saturation profile based on fractional flow. To handle the shock front correctly, the mass balance across the discontinuity leads to the equation:\n",
    "\n",
    "$$\n",
    "\\frac{f(S_{wf})}{S_{wf} - S_{wi}} - \\frac{\\partial f(S_{wf})}{\\partial S} = 0\n",
    "$$\n",
    "\n",
    "where $f$ is the fractional flow function, $S_{wi}$ is the initial water saturation, and $S_{wf}$ is the saturation at the shock front. This nonlinear equation is solved in `compute_saturation_front()` using `scipy.optimize.root_scalar` for numerical accuracy.\n",
    "\n",
    "Once $S_{wf}$ is determined, the profile is adjusted to reflect the physical shock. The function `plot_saturation_profile(t)` generates the corrected saturation profile at a specified non-dimensional time $t$. An example plot for $t=0.25$ is shown below:\n",
    "\n",
    "![Saturation Profile](images/saturation_profile.png)\n",
    "\n",
    "These visualization tools help in understanding the solution dynamics. The shock front saturation values can be computed for various scenarios to verify simulator accuracy."
   ]
  },
  {
   "cell_type": "code",
   "execution_count": 1,
   "metadata": {
    "collapsed": true,
    "jupyter": {
     "outputs_hidden": true
    }
   },
   "outputs": [],
   "source": [
    "import numpy as np\n",
    "import scipy.optimize\n",
    "import matplotlib.pyplot as plt\n",
    "import yaml\n",
    "\n",
    "class BuckleyLeverett(object):\n",
    "    \n",
    "    def __init__(self, inputs):\n",
    "        \n",
    "        if isinstance(inputs, str):\n",
    "            with open(inputs) as f:\n",
    "                self.inputs = yaml.load(f, yaml.FullLoader)\n",
    "        else:\n",
    "            self.inputs = inputs\n",
    "            \n",
    "        self.Sor = self.inputs['reservoir']['oil']['residual saturation']\n",
    "        self.Swc = self.inputs['reservoir']['water']['critical saturation']\n",
    "        self.nw = self.inputs['reservoir']['water']['corey-brooks exponent']\n",
    "        self.no = self.inputs['reservoir']['oil']['corey-brooks exponent']\n",
    "        self.krw_max = self.inputs['reservoir']['water']['max relative permeability']\n",
    "        self.kro_max = self.inputs['reservoir']['oil']['max relative permeability']\n",
    "        \n",
    "        self.mu_o = self.inputs['fluid']['oil']['viscosity']\n",
    "        self.mu_w = self.inputs['fluid']['water']['viscosity']\n",
    "        \n",
    "        self.Swi = self.inputs['initial conditions']['water saturation']\n",
    "        \n",
    "        self.step = 0.01\n",
    "    \n",
    "    def water_rel_perm(self, S):\n",
    "        return self.krw_max * ((S - self.Swc) / (1 - self.Sor - self.Swc)) ** self.nw\n",
    "    \n",
    "    def oil_rel_perm(self, S):\n",
    "        return self.kro_max * (((1 - S) - self.Sor) / (1 - self.Sor - self.Swc)) ** self.no\n",
    "    \n",
    "    def fractional_flow(self, S):\n",
    "        krw = self.water_rel_perm(S)\n",
    "        kro = self.oil_rel_perm(S)\n",
    "        return (krw / self.mu_w) / (krw / self.mu_w + kro / self.mu_o)\n",
    "\n",
    "    def d_fractional_flow_dS(self, S):\n",
    "        \n",
    "        a = 1 - self.Sor - self.Swc\n",
    "        Se_w = (S - self.Swc) / a\n",
    "        Se_o = (1 - S - self.Sor) / a\n",
    "        \n",
    "        krw = self.krw_max * Se_w ** self.nw\n",
    "        kro = self.kro_max * Se_o ** self.no\n",
    "        \n",
    "        lw = krw / self.mu_w\n",
    "        lo = kro / self.mu_o\n",
    "        \n",
    "        dkrw_dS = self.krw_max * self.nw * Se_w ** (self.nw - 1) * (1 / a)\n",
    "        dkro_dS = self.kro_max * self.no * Se_o ** (self.no - 1) * (-1 / a)\n",
    "        \n",
    "        dlw_dS = dkrw_dS / self.mu_w\n",
    "        dlo_dS = dkro_dS / self.mu_o\n",
    "        \n",
    "        return (dlw_dS * lo - lw * dlo_dS) / (lw + lo)**2\n",
    "    \n",
    "    def compute_saturation_front(self):\n",
    "        \n",
    "        def g(S):\n",
    "            f_wf = self.fractional_flow(S)\n",
    "            return f_wf / (S - self.Swi) - self.d_fractional_flow_dS(S)\n",
    "        \n",
    "        x_mid = (self.Swi + (1 - self.Sor)) / 2\n",
    "        return scipy.optimize.root_scalar(g, method='secant', x0=self.Swi + 0.1, x1=x_mid).root\n",
    "        \n",
    "    def compute_saturation_profile(self):\n",
    "        \n",
    "        Swi = self.inputs['initial conditions']['water saturation']\n",
    "        \n",
    "        S = np.arange(self.Swi + self.step, (1 - self.Swc), self.step)\n",
    "        \n",
    "        x = self.d_fractional_flow_dS(S)\n",
    "        \n",
    "        return (x, S)\n",
    "    \n",
    "    def plot_fractional_flow(self):\n",
    "        \n",
    "        S = np.arange(self.Swi + self.step, (1-self.Swc), self.step)\n",
    "        \n",
    "        f = self.fractional_flow(S)\n",
    "        \n",
    "        plt.plot(S, f)\n",
    "        plt.xlabel('$S_w$')\n",
    "        plt.ylabel('$f$')\n",
    "    \n",
    "    def plot_full_saturation_profile(self):\n",
    "        \n",
    "        x, S = self.compute_saturation_profile()\n",
    "        \n",
    "        plt.plot(x, S)\n",
    "        plt.ylabel('$S_w$')\n",
    "        plt.xlabel('$x$')\n",
    "        \n",
    "    def plot_saturation_profile(self, t):\n",
    "        \n",
    "        x, S = self.compute_saturation_profile()\n",
    "        \n",
    "        Swf = self.compute_saturation_front()\n",
    "        \n",
    "        S1 = S[S > Swf]\n",
    "        x1 = x[S > Swf] * t\n",
    "        \n",
    "        xD = self.d_fractional_flow_dS(Swf) * t\n",
    "        \n",
    "        S = np.concatenate((S1[::-1], np.array([Swf, self.Swi]), np.array([self.Swi])))\n",
    "        x = np.concatenate((x1[::-1], np.array([xD, xD]), np.array([1.0])))\n",
    "        \n",
    "        plt.plot(x, S)\n",
    "        plt.xlabel(r'$x$')\n",
    "        plt.ylabel(r'$S_w$')"
   ]
  },
  {
   "cell_type": "code",
   "execution_count": 2,
   "metadata": {},
   "outputs": [],
   "source": [
    "#Uncomment the following lines for viewing the plot\n",
    "#%matplotlib inline\n",
    "#pr = BuckleyLeverett('inputs.yml')\n",
    "#pr.plot_saturation_profile(0.25)\n"
   ]
  },
  {
   "cell_type": "code",
   "execution_count": 3,
   "metadata": {
    "collapsed": true,
    "jupyter": {
     "outputs_hidden": true
    }
   },
   "outputs": [],
   "source": [
    "#If you want, uncomment the following lines to produce an interative plot.\n",
    "#from ipywidgets import interact\n",
    "#@interact(t=(0,0.44,0.001))\n",
    "#def iplot(t=0):\n",
    "#    return pr.plot_saturation_profile(t)"
   ]
  },
  {
   "cell_type": "markdown",
   "metadata": {},
   "source": [
    "## Verification Exercise"
   ]
  },
  {
   "cell_type": "code",
   "execution_count": 4,
   "metadata": {},
   "outputs": [
    {
     "name": "stdout",
     "output_type": "stream",
     "text": [
      "df/dS at S=0.5: 2.7777777777777777\n"
     ]
    }
   ],
   "source": [
    "%matplotlib inline\n",
    "inputs = {\n",
    "    'reservoir': {\n",
    "        'oil': {'residual saturation': 0.2, 'corey-brooks exponent': 3.0, 'max relative permeability': 0.2},\n",
    "        'water': {'critical saturation': 0.2, 'corey-brooks exponent': 3.0, 'max relative permeability': 1.0},\n",
    "    },\n",
    "    'fluid': {\n",
    "        'oil': {'viscosity': 1.0},\n",
    "        'water': {'viscosity': 1.0},\n",
    "    },\n",
    "    'initial conditions': {'water saturation': 0.2},\n",
    "}\n",
    "bl = BuckleyLeverett(inputs)\n",
    "S_test = 0.5\n",
    "print(\"df/dS at S=0.5:\", bl.d_fractional_flow_dS(S_test))"
   ]
  },
  {
   "cell_type": "code",
   "execution_count": 5,
   "metadata": {},
   "outputs": [
    {
     "data": {
      "text/plain": [
       "Text(0, 0.5, 'df/dS')"
      ]
     },
     "execution_count": 5,
     "metadata": {},
     "output_type": "execute_result"
    },
    {
     "data": {
      "image/png": "[encoded data removed]",
      "text/plain": [
       "<Figure size 640x480 with 2 Axes>"
      ]
     },
     "metadata": {},
     "output_type": "display_data"
    }
   ],
   "source": [
    "S = np.linspace(0.21, 0.79, 100)\n",
    "f = [bl.fractional_flow(s) for s in S]\n",
    "df = [bl.d_fractional_flow_dS(s) for s in S]\n",
    "plt.subplot(1,2,1)\n",
    "plt.plot(S, f); plt.xlabel('S_w'); plt.ylabel('f')\n",
    "plt.subplot(1,2,2)\n",
    "plt.plot(S, df); plt.xlabel('S_w'); plt.ylabel('df/dS')"
   ]
  }
 ],
 "metadata": {
  "kernelspec": {
   "display_name": "Python 3",
   "language": "python",
   "name": "python3"
  },
  "language_info": {
   "codemirror_mode": {
    "name": "ipython",
    "version": 3
   },
   "file_extension": ".py",
   "mimetype": "text/x-python",
   "name": "python",
   "nbconvert_exporter": "python",
   "pygments_lexer": "ipython3",
   "version": "3.12.1"
  }
 },
 "nbformat": 4,
 "nbformat_minor": 4
}
